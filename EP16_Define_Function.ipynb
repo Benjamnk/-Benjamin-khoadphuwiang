{
  "nbformat": 4,
  "nbformat_minor": 0,
  "metadata": {
    "colab": {
      "name": "EP16 - Define Function.ipynb",
      "provenance": [],
      "collapsed_sections": [],
      "include_colab_link": true
    },
    "kernelspec": {
      "name": "python3",
      "display_name": "Python 3"
    }
  },
  "cells": [
    {
      "cell_type": "markdown",
      "metadata": {
        "id": "view-in-github",
        "colab_type": "text"
      },
      "source": [
        "<a href=\"https://colab.research.google.com/github/Benjamnk/-Benjamin-khoadphuwiang/blob/main/EP16_Define_Function.ipynb\" target=\"_parent\"><img src=\"https://colab.research.google.com/assets/colab-badge.svg\" alt=\"Open In Colab\"/></a>"
      ]
    },
    {
      "cell_type": "markdown",
      "metadata": {
        "id": "dWNfJVaqRINj"
      },
      "source": [
        "## เขียน Function ไว้ใช้งานเอง\n",
        "\n",
        "![alt text](https://images.unsplash.com/photo-1533750088811-7a8b16218df7?ixlib=rb-0.3.5&ixid=eyJhcHBfaWQiOjEyMDd9&s=8a6e6ce8cbf9262de4dabe516d23d839&auto=format&fit=crop&w=400&q=60)\n",
        "\n",
        "tutorial นี้เรามาเรียนวิธีการเขียน function ใน Python กันดีกว่า (user defined function)\n",
        "\n",
        "ทำไมต้องเขียนฟังชั่นใช้เอง?\n",
        "- เขียนเองสนุกกว่า\n",
        "- เขียนเองง่ายมาก\n",
        "- เขียนตามที่เราต้องการได้เลย\n",
        "\n",
        "\n",
        "\n",
        "---\n",
        "\n",
        "\n",
        "\n",
        "เราใช้ **def** keyword ในการ define function ง่ายๆเลย template การเขียนหน้าตาแบบนี้\n",
        "\n",
        "```\n",
        "def function_name():\n",
        "    do something\n",
        "```\n",
        "\n",
        "มาลองดูตัวอย่างง่ายๆ ฟังชั่นที่ใช้คำนวณอายุของเราออกมาเป็นปี\n",
        "\n",
        "```\n",
        "def what_your_age(bdyear):\n",
        "    age = 2018 - bdyear\n",
        "    return age\n",
        "```\n",
        "\n",
        "\n",
        "---\n",
        "\n",
        "\n",
        "ฟังชั่นด้านบนอ่านว่ายังงี้\n",
        "- **def** keyword ใช้เพื่อ define function\n",
        "- what_your_age คือชื่อฟังชั่น\n",
        "- bdyear เราเรียกว่า argument ก็คือ input ของฟังชั่น\n",
        "- age = 2018 - bdyear คือสิ่งที่ฟังชั่นนี้ทำ\n",
        "- **return** keyword ใช้ส่งค่า output ออกจากฟังชั่น"
      ]
    },
    {
      "cell_type": "code",
      "metadata": {
        "id": "VixrXGKceHml",
        "outputId": "4ac590a8-2b4d-4b38-bc7c-9535b0562d93",
        "colab": {
          "base_uri": "https://localhost:8080/"
        }
      },
      "source": [
        "## Example1: what_your_age()\n",
        "\n",
        "def what_your_age(bdyear):\n",
        "  age = 2018 - bdyear\n",
        "  return age\n",
        "\n",
        "## try this function\n",
        "print(what_your_age(1988))\n",
        "print(what_your_age(1990))\n",
        "print(what_your_age(1995))"
      ],
      "execution_count": 1,
      "outputs": [
        {
          "output_type": "stream",
          "text": [
            "30\n",
            "28\n",
            "23\n"
          ],
          "name": "stdout"
        }
      ]
    },
    {
      "cell_type": "markdown",
      "metadata": {
        "id": "-vYkcBNET_tB"
      },
      "source": [
        "### ฟังชั่นของเรารับได้มากกว่า 1 argument (input)\n",
        "\n",
        "ลองเขียนฟังชั่นง่ายๆ ที่หาผลรวมของตัวเลขสองตัว และ return sum ออกมา\n",
        "\n",
        "```\n",
        "def sum_two_nums(a, b):\n",
        "    total = a + b\n",
        "    return total\n",
        "```"
      ]
    },
    {
      "cell_type": "code",
      "metadata": {
        "id": "o0d7Y7QIT41r"
      },
      "source": [
        "## Example2: sum_two_nums()\n",
        "\n",
        "def sum_two_nums(a, b):\n",
        "    total = a + b\n",
        "    return total\n",
        "  \n",
        "## try this function\n",
        "print(sum_two_nums(10, 20))\n",
        "print(sum_two_nums(2, 20))\n",
        "print(sum_two_nums(10, 25))"
      ],
      "execution_count": null,
      "outputs": []
    },
    {
      "cell_type": "markdown",
      "metadata": {
        "id": "ROrlosF7U4zt"
      },
      "source": [
        "### ใส่คอมเม้นในฟังชั่นที่เราเขียน อธิบายฟังชั่นของเรา\n",
        "\n",
        "คอมเม้นในฟังชั่น เราเรียกว่า docstring ซึ่งถือเป็นธรรมเนียมของคนเขียน Python :D\n",
        "\n",
        "เราเขียน docstring ภายในเครื่องหมาย \"\"\" your comment \"\"\"\n",
        "\n",
        "```\n",
        "def sum_two_nums(a, b):\n",
        "    \"\"\" this function returns sum of two numbers\"\"\"\n",
        "    total = a + b\n",
        "    return total\n",
        "```"
      ]
    },
    {
      "cell_type": "markdown",
      "metadata": {
        "id": "4OrbzVTPUmHO"
      },
      "source": [
        "### ภายในฟังชั่น จะใช้ if-else, for loop, while loop ก็ได้\n",
        "\n",
        "```\n",
        "def greeting(num):\n",
        "    \"\"\" use for loop to print 'Hello!' times\"\"\"\n",
        "    for i in range(num):\n",
        "       print(\"Hello!\")\n",
        "```"
      ]
    },
    {
      "cell_type": "code",
      "metadata": {
        "id": "JTn_q9bXUfpS"
      },
      "source": [
        "## Example3: greeting()\n",
        "\n",
        "def greeting(num):\n",
        "    \"\"\" use for loop to return 'Hello!' times\"\"\"\n",
        "    for i in range(num):\n",
        "        print(\"Hello!\")\n",
        "      \n",
        "## try this function\n",
        "greeting(10)"
      ],
      "execution_count": null,
      "outputs": []
    },
    {
      "cell_type": "code",
      "metadata": {
        "id": "ueb9zAhLWHya"
      },
      "source": [
        "## Example4: is_this_odd()\n",
        "\n",
        "def is_this_odd(num):\n",
        "  \"\"\"check if this number is odd or even\"\"\"\n",
        "  if num % 2 != 0:\n",
        "    return True\n",
        "  else:\n",
        "    return False\n",
        "  \n",
        "## try this function\n",
        "print(is_this_odd(5))\n",
        "print(is_this_odd(4))\n",
        "print(is_this_odd(2))"
      ],
      "execution_count": null,
      "outputs": []
    },
    {
      "cell_type": "markdown",
      "metadata": {
        "id": "tkdhE3xtXCBm"
      },
      "source": [
        "### return vs. print ในฟังชั่น\n",
        "\n",
        "ถ้าเราใช้ **return** ใน line สุดท้ายของโค้ด เราจะสามารถฝากค่า output เข้าไปใน variable ใหม่ได้ \n",
        "\n",
        "แต่ถ้าเราใช้ **print** จะเป็นแค่การ print output ออกมาเฉยๆ แต่ใช้สร้างตัวแปรใหม่ไม่ได้\n",
        "\n",
        "```\n",
        "def double1(num):\n",
        "    \"\"\" use return keyword \"\"\"\n",
        "    return num * 2\n",
        "```\n",
        "\n",
        "```\n",
        "def double2(num):\n",
        "    \"\"\" use print keyword \"\"\"\n",
        "    print(num * 2)\n",
        "```\n",
        "\n",
        "ลองรันโค้ดใน cell ด้านล่างเพื่อดูผลลัพธ์"
      ]
    },
    {
      "cell_type": "code",
      "metadata": {
        "id": "XDzcE1A2jA36"
      },
      "source": [
        "## return\n",
        "def double1(num):\n",
        "    \"\"\" use return keyword \"\"\"\n",
        "    return num * 2\n",
        "\n",
        "## print\n",
        "def double2(num):\n",
        "    \"\"\" use print keyword \"\"\"\n",
        "    print(num * 2)\n",
        "    \n",
        "x = double1(10)\n",
        "y = double2(10)"
      ],
      "execution_count": null,
      "outputs": []
    },
    {
      "cell_type": "code",
      "metadata": {
        "id": "Mi66xTtVX5Uj"
      },
      "source": [
        "## ลองปริ้น variable x และ y\n",
        "print(x)\n",
        "print(y)"
      ],
      "execution_count": null,
      "outputs": []
    },
    {
      "cell_type": "markdown",
      "metadata": {
        "id": "4BVsonS7YArB"
      },
      "source": [
        "ถ้าใช้ print ตัวแปร y จะมีค่าเป็น None แต่ถ้าใช้ **return** เราสามารถฝากค่าที่ได้จาก function ของเราเข้าไปในตัวแปรใหม่ได้ :D\n",
        "\n",
        "และนี่คือความแตกต่างระหว่าง return vs. print "
      ]
    },
    {
      "cell_type": "markdown",
      "metadata": {
        "id": "C0ois_miYR_H"
      },
      "source": [
        "### Summary\n",
        "\n",
        "- function ใน Python เขียนได้ง่ายมากด้วย **def** keyword\n",
        "- good practice ต้องเขียน docstring ด้วย\n",
        "- return กับ print แตกต่างกันนะ ในฟังชั่น\n",
        "- จะใช้ if-else, for while loop ใน function ของเราก็ได้ แค่ต้องย่อหน้าให้ถูก :D"
      ]
    }
  ]
}