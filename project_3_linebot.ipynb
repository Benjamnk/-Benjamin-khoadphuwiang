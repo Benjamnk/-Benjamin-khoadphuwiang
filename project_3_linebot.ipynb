{
  "nbformat": 4,
  "nbformat_minor": 0,
  "metadata": {
    "colab": {
      "name": "Untitled15.ipynb",
      "provenance": [],
      "authorship_tag": "ABX9TyOFFaGhjtlvK5ZeReLqIFFV",
      "include_colab_link": true
    },
    "kernelspec": {
      "name": "python3",
      "display_name": "Python 3"
    }
  },
  "cells": [
    {
      "cell_type": "markdown",
      "metadata": {
        "id": "view-in-github",
        "colab_type": "text"
      },
      "source": [
        "<a href=\"https://colab.research.google.com/github/Benjamnk/-Benjamin-khoadphuwiang/blob/main/project_3_linebot.ipynb\" target=\"_parent\"><img src=\"https://colab.research.google.com/assets/colab-badge.svg\" alt=\"Open In Colab\"/></a>"
      ]
    },
    {
      "cell_type": "code",
      "metadata": {
        "id": "Z5838IwHbV_N"
      },
      "source": [
        "https://github.com/Puttipong1234/Line_Bot_x_UncleEngineer/blob/master/Project/__init__.py\n"
      ],
      "execution_count": null,
      "outputs": []
    }
  ]
}